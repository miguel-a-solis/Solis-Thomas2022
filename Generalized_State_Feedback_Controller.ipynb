{
  "nbformat": 4,
  "nbformat_minor": 0,
  "metadata": {
    "colab": {
      "name": "Generalized_State_Feedback_Controller.ipynb",
      "provenance": []
    },
    "kernelspec": {
      "display_name": "Python 3",
      "name": "python3"
    },
    "language_info": {
      "name": "python"
    }
  },
  "cells": [
    {
      "cell_type": "markdown",
      "metadata": {
        "id": "vJxd5RnR_N85"
      },
      "source": [
        "**Generalized State-Feedback Controller Synthesis for Underactuated Systems through Bayesian Optimization**\n",
        "\n",
        "Miguel A. Solis and Sinnu Susan Thomas\n",
        "\n",
        "*submitted to IEEE Access* (under review, file is intende to serve as supplementary material for reviewers)"
      ]
    },
    {
      "cell_type": "code",
      "metadata": {
        "colab": {
          "base_uri": "https://localhost:8080/"
        },
        "id": "My9oJqp0_cDT",
        "outputId": "7e8e36ea-5848-49a9-d6e4-c5f2b2a5abd7"
      },
      "source": [
        "!pip install GPy GPyOpt\n",
        "!pip install control\n",
        "import control\n",
        "import GPy\n",
        "import GPyOpt\n",
        "from GPyOpt.methods import BayesianOptimization\n",
        "import numpy as np\n",
        "import sys\n",
        "import matplotlib.pyplot as plt"
      ],
      "execution_count": null,
      "outputs": [
        {
          "output_type": "stream",
          "text": [
            "Requirement already satisfied: GPy in /usr/local/lib/python3.7/dist-packages (1.10.0)\n",
            "Requirement already satisfied: GPyOpt in /usr/local/lib/python3.7/dist-packages (1.2.6)\n",
            "Requirement already satisfied: scipy>=1.3.0 in /usr/local/lib/python3.7/dist-packages (from GPy) (1.4.1)\n",
            "Requirement already satisfied: cython>=0.29 in /usr/local/lib/python3.7/dist-packages (from GPy) (0.29.23)\n",
            "Requirement already satisfied: numpy>=1.7 in /usr/local/lib/python3.7/dist-packages (from GPy) (1.19.5)\n",
            "Requirement already satisfied: paramz>=0.9.0 in /usr/local/lib/python3.7/dist-packages (from GPy) (0.9.5)\n",
            "Requirement already satisfied: six in /usr/local/lib/python3.7/dist-packages (from GPy) (1.15.0)\n",
            "Requirement already satisfied: decorator>=4.0.10 in /usr/local/lib/python3.7/dist-packages (from paramz>=0.9.0->GPy) (4.4.2)\n",
            "Requirement already satisfied: control in /usr/local/lib/python3.7/dist-packages (0.9.0)\n",
            "Requirement already satisfied: numpy in /usr/local/lib/python3.7/dist-packages (from control) (1.19.5)\n",
            "Requirement already satisfied: scipy in /usr/local/lib/python3.7/dist-packages (from control) (1.4.1)\n",
            "Requirement already satisfied: matplotlib in /usr/local/lib/python3.7/dist-packages (from control) (3.2.2)\n",
            "Requirement already satisfied: pyparsing!=2.0.4,!=2.1.2,!=2.1.6,>=2.0.1 in /usr/local/lib/python3.7/dist-packages (from matplotlib->control) (2.4.7)\n",
            "Requirement already satisfied: kiwisolver>=1.0.1 in /usr/local/lib/python3.7/dist-packages (from matplotlib->control) (1.3.1)\n",
            "Requirement already satisfied: python-dateutil>=2.1 in /usr/local/lib/python3.7/dist-packages (from matplotlib->control) (2.8.1)\n",
            "Requirement already satisfied: cycler>=0.10 in /usr/local/lib/python3.7/dist-packages (from matplotlib->control) (0.10.0)\n",
            "Requirement already satisfied: six>=1.5 in /usr/local/lib/python3.7/dist-packages (from python-dateutil>=2.1->matplotlib->control) (1.15.0)\n"
          ],
          "name": "stdout"
        }
      ]
    },
    {
      "cell_type": "code",
      "metadata": {
        "id": "i9VXlGzTACk0"
      },
      "source": [
        "Bc, Cc = np.zeros((1,5)), -0.5\n",
        "\n",
        "def myf(params):\n",
        "    param1 = np.array(params[0][0])\n",
        "    param2 = np.array(params[0][1:])\n",
        "    Abar = np.block([[A-B*param2, -B*Cc], [Bc, param1]])\n",
        "    eigenvalues = np.linalg.eig(Abar)[0].real\n",
        "    inf_norm = np.linalg.norm(eigenvalues, float(\"inf\"))\n",
        "    if (eigenvalues < 0).all():\n",
        "        print(\"Feasible parameters:\")\n",
        "        print(\"Ac: \", param1)\n",
        "        print(\"Dc: \", param2)\n",
        "        print(\"Eigenvalues: \", eigenvalues)\n",
        "    return inf_norm"
      ],
      "execution_count": null,
      "outputs": []
    },
    {
      "cell_type": "code",
      "metadata": {
        "colab": {
          "base_uri": "https://localhost:8080/"
        },
        "id": "16qHlTaGAZYp",
        "outputId": "833b0466-235d-4a35-d706-2263202b1274"
      },
      "source": [
        "bounds = [{'name': 'A_c', 'type': 'continuous', 'domain': (-100,100)},\n",
        "          {'name': 'D_c1', 'type': 'continuous', 'domain': (-100,100)},\n",
        "          {'name': 'D_c2', 'type': 'continuous', 'domain': (-100,100)},\n",
        "          {'name': 'D_c3', 'type': 'continuous', 'domain': (-100,100)},\n",
        "          {'name': 'D_c4', 'type': 'continuous', 'domain': (-100,100)},\n",
        "          {'name': 'D_c5', 'type': 'continuous', 'domain': (-100,100)} ]\n",
        "\n",
        "A = np.array([[0, 1, 0, 0, 0],[0, -0.31, 2.99, -0.02, 81.47], [0, 0, 0, 1, 0], [0, -0.02, 61.49, -0.5, 63.88], [0, -261.94, 0, 0, -800]])\n",
        "B = np.array([[0,], [0,], [0,], [0,], [100,]])\n",
        "C = np.array([[1, 0, 0, 0, 0], [0, 0, 1, 0, 0], [0, 0, 0, 0, 1]])\n",
        "\n",
        "desired_eigenvalues = np.array([-0.1, -0.2, -0.3, -0.4, -0.5, -0.6])\n",
        "\n",
        "np.random.seed(0)\n",
        "max_iter = 71 # user-adjustable\n",
        "for i in range(max_iter):\n",
        "    print(\"Iteration\"+str(i))\n",
        "    myProblem = GPyOpt.methods.BayesianOptimization(myf, bounds, acquisition_type = 'EI')\n",
        "    myProblem.run_optimization(i)"
      ],
      "execution_count": null,
      "outputs": [
        {
          "output_type": "stream",
          "text": [
            "Iteration0\n",
            "Iteration1\n",
            "Iteration2\n",
            "Iteration3\n",
            "Iteration4\n",
            "Iteration5\n",
            "Iteration6\n",
            "Iteration7\n",
            "Iteration8\n",
            "Iteration9\n",
            "Iteration10\n",
            "Iteration11\n",
            "Iteration12\n",
            "Iteration13\n",
            "Iteration14\n",
            "Iteration15\n",
            "Feasible parameters:\n",
            "Ac:  -94.77846610644445\n",
            "Dc:  [ -8.14316754 -26.63722137  80.33066122  83.11763857  -4.96743951]\n",
            "Eigenvalues:  [-151.32569802 -151.32569802   -0.33956762   -0.5375426    -0.5375426\n",
            "  -94.77846611]\n",
            "Iteration16\n",
            "Iteration17\n",
            "Iteration18\n",
            "Iteration19\n",
            "Iteration20\n",
            "Iteration21\n",
            "Iteration22\n",
            "Iteration23\n",
            "Iteration24\n",
            "Iteration25\n",
            "Iteration26\n",
            "Iteration27\n",
            "Iteration28\n",
            "Iteration29\n",
            "Iteration30\n",
            "Iteration31\n",
            "Iteration32\n",
            "Iteration33\n",
            "Iteration34\n",
            "Iteration35\n",
            "Iteration36\n",
            "Iteration37\n",
            "Iteration38\n",
            "Iteration39\n",
            "Iteration40\n",
            "Iteration41\n",
            "Iteration42\n",
            "Iteration43\n",
            "Iteration44\n",
            "Iteration45\n",
            "Iteration46\n",
            "Iteration47\n",
            "Iteration48\n",
            "Iteration49\n",
            "Iteration50\n",
            "Iteration51\n",
            "Iteration52\n",
            "Iteration53\n",
            "Iteration54\n",
            "Iteration55\n",
            "Iteration56\n",
            "Iteration57\n",
            "Iteration58\n",
            "Iteration59\n",
            "Iteration60\n",
            "Iteration61\n",
            "Iteration62\n",
            "Iteration63\n",
            "Iteration64\n",
            "Iteration65\n",
            "Iteration66\n",
            "Iteration67\n",
            "Iteration68\n",
            "Iteration69\n",
            "Iteration70\n",
            "Feasible parameters:\n",
            "Ac:  -4.060276295107968\n",
            "Dc:  [ -8.64759779 -20.65942616  35.58560061  63.52236819  -4.46640112]\n",
            "Eigenvalues:  [-1.76761260e+02 -1.76761260e+02 -4.79504341e-01 -8.39320665e-02\n",
            " -8.39320665e-02 -4.06027630e+00]\n"
          ],
          "name": "stdout"
        }
      ]
    },
    {
      "cell_type": "code",
      "metadata": {
        "id": "BhjoB3p3AeCf"
      },
      "source": [
        "dt = 0.002 # sampling time\n",
        "time_horizon = 30\n",
        "step_start = 10\n",
        "step_end = 30\n",
        "\n",
        "time_steps = int(time_horizon/dt)"
      ],
      "execution_count": null,
      "outputs": []
    },
    {
      "cell_type": "code",
      "metadata": {
        "id": "qN1nZIzKTBjK"
      },
      "source": [
        "# Plant model\n",
        "A = np.array([[0, 1, 0, 0, 0], [0, -0.31, 2.99, -0.02, 81.47], [0, 0, 0, 1, 0], [0, -0.02, 61.49, -0.5, 63.88], [0, -261.94, 0, 0, -800]])\n",
        "B = np.array([[0,], [0,], [0,], [0,], [100,]])\n",
        "C = np.array([[1, 0, 0, 0, 0], [0, 0, 1, 0, 0], [0, 0, 0, 0, 1]])\n",
        "\n",
        "# Controller model found through Bayesian Optimization\n",
        "#\n",
        "Ac = -4.06\n",
        "Dc = np.array([-8.65, -20.66, 35.59, 63.52, -4.47])"
      ],
      "execution_count": null,
      "outputs": []
    },
    {
      "cell_type": "code",
      "metadata": {
        "id": "pbnjWmiLVIJ0"
      },
      "source": [
        "# model discretization for simulation\n",
        "sys = control.StateSpace(A,B,C,0)\n",
        "sysd = sys.sample(dt, method=\"zoh\")"
      ],
      "execution_count": null,
      "outputs": []
    },
    {
      "cell_type": "code",
      "metadata": {
        "id": "1kvGPhPhVmxY"
      },
      "source": [
        "# LQR problem formulation for classical state-feedback controller\n",
        "Q = np.array([[100, 0, 0, 0, 0], [0, 10, 0, 0, 0], [0, 0, 100, 0, 0], [0, 0, 0, 10, 0], [0, 0, 0, 0, 1]])\n",
        "R = 10\n",
        "P, eig, K = control.dare(sysd.A, sysd.B, Q, R)"
      ],
      "execution_count": null,
      "outputs": []
    },
    {
      "cell_type": "code",
      "metadata": {
        "id": "j3nBUIDXWWVU"
      },
      "source": [
        "# initialization for samples vectors\n",
        "arm_reference = np.zeros((1,time_steps))\n",
        "x = np.zeros((np.size(A,0),time_steps))\n",
        "xK = np.zeros((np.size(A,0),time_steps))\n",
        "xc = np.zeros((np.size(Ac),time_steps))\n",
        "uK = np.zeros((1, time_steps))\n",
        "u = np.zeros((1, time_steps))\n",
        "\n",
        "# initial conditions (starting with 15 degrees for pendulum angle)\n",
        "x[0,2] = 15\n",
        "xK[0,2] = 15"
      ],
      "execution_count": null,
      "outputs": []
    },
    {
      "cell_type": "code",
      "metadata": {
        "id": "6f3DiuHjWXPo"
      },
      "source": [
        "for k in range(2,time_steps,1):\n",
        "    if step_start/dt < k and k < step_end/dt:\n",
        "        arm_reference[0,k] = 90\n",
        "    else:\n",
        "        arm_reference[0,k] = 0\n",
        " \n",
        "    uK[0,k-1] = np.matmul(-K, np.array([[x[0,k-1] - arm_reference[0,k-1],], [x[1,k-1],], [x[2,k-1],], [x[3,k-1],], [x[4,k-1],]]))\n",
        "    u[0,k-1] = Cc*xc[:,k] - np.matmul(Dc, np.array([[x[0,k-1] - arm_reference[0,k-1],], [x[1,k-1],], [x[2,k-1],], [x[3,k-1],], [x[4,k-1],]]))       \n",
        "    xc[:,k] = Ac*xc[:,k-1] + np.matmul(Bc,x[:,k-1])\n",
        "    x[:,k] = np.reshape(np.matmul(sysd.A, np.reshape(x[:,k-1],(np.size(A,0),1)))+ sysd.B*u[0,k-1],(np.size(A,0),))\n",
        "    xK[:,k] = np.reshape(np.matmul(sysd.A, np.reshape(xK[:,k-1],(np.size(A,0),1)))+ sysd.B*uK[0,k-1],(np.size(A,0),))"
      ],
      "execution_count": null,
      "outputs": []
    },
    {
      "cell_type": "code",
      "metadata": {
        "id": "XUTcBha6XQOn",
        "colab": {
          "base_uri": "https://localhost:8080/",
          "height": 304
        },
        "outputId": "b3aa4ca7-2c7e-441f-940e-76cb09b090d8"
      },
      "source": [
        "fig, (ax1, ax2, ax3) = plt.subplots(3, 1)\n",
        "time = [float(t)*dt for t in range(1,time_steps+1)]\n",
        "ax1.plot(time, x[0,:], 'k', time, arm_reference[0,:], 'k--')\n",
        "ax1.legend(['arm angle', 'arm reference'], loc='upper left')\n",
        "ax1.grid(True)\n",
        "ax1.set(ylabel='Amplitude [deg]')\n",
        "\n",
        "ax2.plot(time, x[2,:], 'k')\n",
        "ax2.grid(True)\n",
        "ax2.set(ylabel='Amplitude [deg]')\n",
        "ax2.legend(['pendulum angle'], loc='upper left')\n",
        "\n",
        "ax3.plot(time, u[0,:], 'k', time, uK[0,:], 'k--')\n",
        "ax3.grid(True)\n",
        "ax3.legend(['Gen. State-FB', 'Reg. State-FB'], loc='upper left')\n",
        "ax3.set(xlabel='Time [secs]', ylabel='Control signal')\n",
        "ax3.set_ylim([-300,300])\n",
        "fig.tight_layout()"
      ],
      "execution_count": null,
      "outputs": [
        {
          "output_type": "display_data",
          "data": {
            "image/png": "[encoded data removed]",
            "text/plain": [
              "<Figure size 432x288 with 3 Axes>"
            ]
          },
          "metadata": {
            "tags": [],
            "needs_background": "light"
          }
        }
      ]
    }
  ]
}
